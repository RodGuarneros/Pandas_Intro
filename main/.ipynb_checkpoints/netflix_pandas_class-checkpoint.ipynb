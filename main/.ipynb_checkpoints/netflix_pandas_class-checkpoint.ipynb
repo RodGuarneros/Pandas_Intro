{
 "cells": [
  {
   "cell_type": "markdown",
   "id": "905884f6",
   "metadata": {},
   "source": [
    "# Introducción a Pandas con Netflix 🎬📊\n",
    "\n",
    "### **Objetivo:** Cargaremos un archivo CSV con datos de Netflix y realizaremos operaciones básicas de selección, indexación y filtrado usando `pandas`."
   ]
  },
  {
   "cell_type": "code",
   "execution_count": null,
   "id": "40258c73",
   "metadata": {},
   "outputs": [],
   "source": [
    "import pandas as pd\n",
    "# Cargar el archivo que subiste manualmente a JupyterLite (usa el botón 'Upload')\n",
    "df = pd.read_csv('netflix_titles.csv')\n",
    "df.head()"
   ]
  },
  {
   "cell_type": "markdown",
   "id": "1d669c8f",
   "metadata": {},
   "source": [
    "## Selección por columnas\n",
    "Veamos algunas columnas específicas:"
   ]
  },
  {
   "cell_type": "code",
   "execution_count": null,
   "id": "4decaf6e",
   "metadata": {},
   "outputs": [],
   "source": [
    "df[['title', 'country', 'release_year', 'listed_in']].head()"
   ]
  },
  {
   "cell_type": "markdown",
   "id": "16a93ccf",
   "metadata": {},
   "source": [
    "## Filtrar contenido mexicano 🎥🇲🇽"
   ]
  },
  {
   "cell_type": "code",
   "execution_count": null,
   "id": "c513bbc4",
   "metadata": {},
   "outputs": [],
   "source": [
    "df_mex = df[df['country'].str.contains('Mexico', na=False)]\n",
    "df_mex[['title', 'release_year', 'type']].head()"
   ]
  },
  {
   "cell_type": "markdown",
   "id": "1101be9b",
   "metadata": {},
   "source": [
    "## Filtrar películas dramáticas después de 2015"
   ]
  },
  {
   "cell_type": "code",
   "execution_count": null,
   "id": "c385825f",
   "metadata": {},
   "outputs": [],
   "source": [
    "df_dramas = df[\n",
    "    (df['listed_in'].str.contains('Dramas', na=False)) &\n",
    "    (df['release_year'] > 2015)\n",
    "]\n",
    "df_dramas[['title', 'release_year', 'country']].head()"
   ]
  }
 ],
 "metadata": {
  "kernelspec": {
   "display_name": "",
   "name": ""
  },
  "language_info": {
   "name": ""
  }
 },
 "nbformat": 4,
 "nbformat_minor": 5
}
